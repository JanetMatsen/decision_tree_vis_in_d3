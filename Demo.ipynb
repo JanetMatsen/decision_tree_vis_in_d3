{
 "cells": [
  {
   "cell_type": "code",
   "execution_count": 1,
   "metadata": {
    "collapsed": true
   },
   "outputs": [],
   "source": [
    "import numpy as np"
   ]
  },
  {
   "cell_type": "code",
   "execution_count": 2,
   "metadata": {
    "collapsed": false
   },
   "outputs": [],
   "source": [
    "from sklearn.cross_validation import train_test_split\n",
    "from sklearn import metrics\n",
    "from sklearn.tree import DecisionTreeRegressor\n",
    "clf = DecisionTreeRegressor()\n"
   ]
  },
  {
   "cell_type": "code",
   "execution_count": 3,
   "metadata": {
    "collapsed": true
   },
   "outputs": [],
   "source": [
    "Ht2 = np.loadtxt('./raw_data/Height.txt',skiprows=0, dtype=np.float64)\n",
    "Po2 = np.loadtxt('./raw_data/Potential.txt',skiprows=0, dtype=np.float64)\n",
    "Ph2 = np.loadtxt('./raw_data/Phase.txt',skiprows=0, dtype=np.float64)\n",
    "Am2 = np.loadtxt('./raw_data/Amplitude.txt',skiprows=0, dtype=np.float64)\n",
    "Pl2 = np.loadtxt('./raw_data/Photoluminescence.txt',skiprows=0, dtype=np.float64)"
   ]
  },
  {
   "cell_type": "code",
   "execution_count": 4,
   "metadata": {
    "collapsed": false
   },
   "outputs": [],
   "source": [
    "# flatten the images\n",
    "Ht2_flat = Ht2.flatten()\n",
    "Po2_flat = Po2.flatten()\n",
    "Ph2_flat = Ph2.flatten()\n",
    "Am2_flat = Am2.flatten()\n",
    "Pl2_flat = Pl2.flatten()"
   ]
  },
  {
   "cell_type": "code",
   "execution_count": 5,
   "metadata": {
    "collapsed": false
   },
   "outputs": [
    {
     "name": "stdout",
     "output_type": "stream",
     "text": [
      "(63250, 4)\n",
      "(63250,)\n"
     ]
    },
    {
     "data": {
      "text/plain": [
       "array([ 1.3548808,  1.2793899,  1.1852301, ...,  0.       ,  0.       ,  0.       ])"
      ]
     },
     "execution_count": 5,
     "metadata": {},
     "output_type": "execute_result"
    }
   ],
   "source": [
    "X = [Ht2_flat, Po2_flat, Ph2_flat, Am2_flat]\n",
    "X = np.array(X).T\n",
    "Y = np.array(Pl2_flat).T\n",
    "print(X.shape)\n",
    "print(Y.shape)\n",
    "Y"
   ]
  },
  {
   "cell_type": "code",
   "execution_count": 6,
   "metadata": {
    "collapsed": false
   },
   "outputs": [],
   "source": [
    "Xtrain, Xtest, ytrain, ytest = train_test_split(X, Y, random_state=0)\n",
    "clf = DecisionTreeRegressor(max_depth=11)\n",
    "clf.fit(Xtrain, ytrain)\n",
    "ypred = clf.predict(Xtest)"
   ]
  },
  {
   "cell_type": "code",
   "execution_count": 7,
   "metadata": {
    "collapsed": false
   },
   "outputs": [
    {
     "data": {
      "text/plain": [
       "0.14074758455098305"
      ]
     },
     "execution_count": 7,
     "metadata": {},
     "output_type": "execute_result"
    }
   ],
   "source": [
    "metrics.mean_squared_error(ytest, ypred)"
   ]
  },
  {
   "cell_type": "code",
   "execution_count": null,
   "metadata": {
    "collapsed": true
   },
   "outputs": [],
   "source": []
  }
 ],
 "metadata": {
  "kernelspec": {
   "display_name": "IPython (Python 3)",
   "language": "python",
   "name": "python3"
  },
  "language_info": {
   "codemirror_mode": {
    "name": "ipython",
    "version": 3
   },
   "file_extension": ".py",
   "mimetype": "text/x-python",
   "name": "python",
   "nbconvert_exporter": "python",
   "pygments_lexer": "ipython3",
   "version": "3.5.1"
  }
 },
 "nbformat": 4,
 "nbformat_minor": 0
}
